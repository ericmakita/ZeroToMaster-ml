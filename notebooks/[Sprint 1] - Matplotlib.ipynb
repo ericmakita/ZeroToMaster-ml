{
 "cells": [
  {
   "cell_type": "code",
   "execution_count": null,
   "outputs": [],
   "source": [
    "%matplotlib inline\n",
    "import pandas as pd\n",
    "import numpy as np\n",
    "import matplotlib.pyplot as plt\n",
    "import seaborn as sn\n",
    "sn.set()"
   ],
   "metadata": {
    "collapsed": false,
    "pycharm": {
     "name": "#%%\n"
    }
   }
  },
  {
   "cell_type": "markdown",
   "source": [
    "## what are we going to cover ?\n",
    "\n",
    "- Matploylib workflow\n",
    "- Importing Matplotlib and the 2 ways of plotting\n",
    "- Plotting data from NumPy arrays\n",
    "- Plotting data from pandas DataFrames\n",
    "- Customizing plots\n",
    "- Saving and sharing plots"
   ],
   "metadata": {
    "collapsed": false
   }
  },
  {
   "cell_type": "code",
   "execution_count": null,
   "outputs": [],
   "source": [
    "plt.plot(); # if we dont want to put ; at the end, we can use plt.show() at the end of the script"
   ],
   "metadata": {
    "collapsed": false,
    "pycharm": {
     "name": "#%%\n"
    }
   }
  },
  {
   "cell_type": "code",
   "execution_count": null,
   "outputs": [],
   "source": [
    "plt.plot([1, 2, 3, 4]);"
   ],
   "metadata": {
    "collapsed": false,
    "pycharm": {
     "name": "#%%\n"
    }
   }
  },
  {
   "cell_type": "code",
   "execution_count": null,
   "outputs": [],
   "source": [
    "x = [1, 2, 3, 4]\n",
    "y = [11, 22, 33, 44]\n",
    "plt.plot(x,y);"
   ],
   "metadata": {
    "collapsed": false,
    "pycharm": {
     "name": "#%%\n"
    }
   }
  },
  {
   "cell_type": "code",
   "execution_count": null,
   "outputs": [],
   "source": [
    "# 1st method\n",
    "fig = plt.figure() # Create figure\n",
    "ax = fig.add_subplot() # adds some axes\n",
    "plt.show()"
   ],
   "metadata": {
    "collapsed": false,
    "pycharm": {
     "name": "#%%\n"
    }
   }
  },
  {
   "cell_type": "code",
   "execution_count": null,
   "outputs": [],
   "source": [
    "# 2nd method\n",
    "fig = plt.figure()\n",
    "ax = fig.add_axes([1, 1, 1, 1])\n",
    "ax.plot(x, y) # add some data\n",
    "plt.show()"
   ],
   "metadata": {
    "collapsed": false,
    "pycharm": {
     "name": "#%%\n"
    }
   }
  },
  {
   "cell_type": "code",
   "execution_count": null,
   "outputs": [],
   "source": [
    "# 3th method (recommended)\n",
    "fig, ax = plt.subplots()\n",
    "ax.plot(x, [50, 100, 200, 250]); # add some data"
   ],
   "metadata": {
    "collapsed": false,
    "pycharm": {
     "name": "#%%\n"
    }
   }
  },
  {
   "cell_type": "markdown",
   "source": [
    "# Matplotlib example workflow "
   ],
   "metadata": {
    "collapsed": false
   }
  },
  {
   "cell_type": "code",
   "execution_count": null,
   "outputs": [],
   "source": [
    "# 0. Import matplotlib and get it ready for plotting in Jupyter\n",
    "%matplotlib inline\n",
    "import matplotlib.pyplot as plt\n",
    "\n",
    "# 1. Prepare data \n",
    "x = [1, 2, 3, 4]\n",
    "y = [11, 22, 33, 44]\n",
    "\n",
    "# 2. Setup plot\n",
    "fig, ax = plt.subplots(figsize=(10, 10)) # (Width, Height )\n",
    "\n",
    "# 3. Plot data \n",
    "ax.plot(x, y)\n",
    "\n",
    "# 4. Customize plot\n",
    "ax.set(title=\"Simple Plot\",\n",
    "      xlabel= \"x-axis\",\n",
    "      ylabel=\"y-axis\")\n",
    "\n",
    "# 5. Save & show\n",
    "fig.savefig(\"../data/figures/sample-plot.png\")"
   ],
   "metadata": {
    "collapsed": false,
    "pycharm": {
     "name": "#%%\n"
    }
   }
  },
  {
   "cell_type": "markdown",
   "source": [
    "## Making figures with NumPy arrays\n",
    "\n",
    "we will create :\n",
    "\n",
    "* Line plot\n",
    "* Scatter plot\n",
    "* Bar plot\n",
    "* Histogram\n",
    "* Subplots"
   ],
   "metadata": {
    "collapsed": false
   }
  },
  {
   "cell_type": "code",
   "execution_count": null,
   "outputs": [],
   "source": [
    "# Create some data\n",
    "x = np.linspace(0, 10, 100)\n",
    "x[:10]"
   ],
   "metadata": {
    "collapsed": false,
    "pycharm": {
     "name": "#%%\n"
    }
   }
  },
  {
   "cell_type": "code",
   "execution_count": null,
   "outputs": [],
   "source": [
    "# Plot the data\n",
    "fig, ax = plt.subplots()\n",
    "ax.plot(x, x**2);"
   ],
   "metadata": {
    "collapsed": false,
    "pycharm": {
     "name": "#%%\n"
    }
   }
  },
  {
   "cell_type": "code",
   "execution_count": null,
   "outputs": [],
   "source": [
    "# Use the same data to make a scatter plot\n",
    "fig, ax = plt.subplots()\n",
    "ax.scatter(x, np.exp(x));"
   ],
   "metadata": {
    "collapsed": false,
    "pycharm": {
     "name": "#%%\n"
    }
   }
  },
  {
   "cell_type": "code",
   "execution_count": null,
   "outputs": [],
   "source": [
    "# Another scatter plot\n",
    "fig, ax = plt.subplots()\n",
    "ax.scatter(x, np.sin(x));"
   ],
   "metadata": {
    "collapsed": false,
    "pycharm": {
     "name": "#%%\n"
    }
   }
  },
  {
   "cell_type": "code",
   "execution_count": null,
   "outputs": [],
   "source": [
    "# Another scatter plot\n",
    "fig, ax = plt.subplots()\n",
    "ax.scatter(x, np.cos(x));"
   ],
   "metadata": {
    "collapsed": false,
    "pycharm": {
     "name": "#%%\n"
    }
   }
  },
  {
   "cell_type": "code",
   "execution_count": null,
   "outputs": [],
   "source": [
    "# Make a vertical plot from dictionary\n",
    "nut_butter_prices = {\"Almond butter\": 10,\n",
    "                    \"Peanut butter\": 8,\n",
    "                    \"Cashew butter\": 12}\n",
    "\n",
    "fig, ax = plt.subplots()\n",
    "ax.bar(nut_butter_prices.keys(), height=nut_butter_prices.values())\n",
    "ax.set(title=\"Eric's Butter Store\",\n",
    "      ylabel=\"Price ($)\");"
   ],
   "metadata": {
    "collapsed": false,
    "pycharm": {
     "name": "#%%\n"
    }
   }
  },
  {
   "cell_type": "code",
   "execution_count": null,
   "outputs": [],
   "source": [
    "# Make a horizontal plot from dictionary\n",
    "nut_butter_prices = {\"Almond butter\": 10,\n",
    "                    \"Peanut butter\": 8,\n",
    "                    \"Cashew butter\": 12}\n",
    "\n",
    "fig, ax = plt.subplots()\n",
    "ax.barh(list(nut_butter_prices.keys()), list(nut_butter_prices.values()))\n",
    "ax.set(title=\"Eric's Butter Store\",\n",
    "      xlabel=\"Price ($)\");"
   ],
   "metadata": {
    "collapsed": false,
    "pycharm": {
     "name": "#%%\n"
    }
   }
  },
  {
   "cell_type": "code",
   "execution_count": null,
   "outputs": [],
   "source": [
    "# Make histogram\n",
    "x = np.random.randn(1000)\n",
    "fig, ax = plt.subplots()\n",
    "ax.hist(x);"
   ],
   "metadata": {
    "collapsed": false,
    "pycharm": {
     "name": "#%%\n"
    }
   }
  },
  {
   "cell_type": "markdown",
   "source": [
    "# Make some subplots\n",
    "# - Option 1 (reccommended):"
   ],
   "metadata": {
    "collapsed": false
   }
  },
  {
   "cell_type": "code",
   "execution_count": null,
   "outputs": [],
   "source": [
    "fig, ((ax1, ax2), (ax3, ax4)) = plt.subplots(nrows=2,\n",
    "                                            ncols=2,\n",
    "                                            figsize=(10, 5))\n",
    "\n",
    "# plot to each different axis\n",
    "ax1.plot(x, x/2);\n",
    "ax2.scatter(np.random.random(10), np.random.random(10));\n",
    "ax3.hist(np.random.randn(1000));\n",
    "ax4.bar(nut_butter_prices.keys(), height=nut_butter_prices.values());"
   ],
   "metadata": {
    "collapsed": false,
    "pycharm": {
     "name": "#%%\n"
    }
   }
  },
  {
   "cell_type": "markdown",
   "source": [
    "# - Option 2:"
   ],
   "metadata": {
    "collapsed": false
   }
  },
  {
   "cell_type": "code",
   "execution_count": null,
   "outputs": [],
   "source": [
    "fig, ax = plt.subplots(nrows=2,\n",
    "                       ncols=2,\n",
    "                       figsize=(10, 5))\n",
    "\n",
    "# plot to each different index\n",
    "ax[0, 0].plot(x, x/2);\n",
    "ax[0, 1].scatter(np.random.random(10), np.random.random(10));\n",
    "ax[1, 0].hist(np.random.randn(1000));\n",
    "ax[1, 1].bar(nut_butter_prices.keys(), height=nut_butter_prices.values());"
   ],
   "metadata": {
    "collapsed": false,
    "pycharm": {
     "name": "#%%\n"
    }
   }
  },
  {
   "cell_type": "markdown",
   "source": [
    "## Plotting from pandas DataFrames"
   ],
   "metadata": {
    "collapsed": false
   }
  },
  {
   "cell_type": "code",
   "execution_count": null,
   "outputs": [],
   "source": [
    "# first example:\n",
    "ts = pd.Series(np.random.randn(1000),\n",
    "              index=pd.date_range('1/1/2000', periods=1000))\n",
    "\n",
    "ts = ts.cumsum()\n",
    "ts.plot();"
   ],
   "metadata": {
    "collapsed": false,
    "pycharm": {
     "name": "#%%\n"
    }
   }
  },
  {
   "cell_type": "code",
   "execution_count": null,
   "outputs": [],
   "source": [
    "df = pd.read_csv(\"../data/raw/car-sales.csv\")"
   ],
   "metadata": {
    "collapsed": false,
    "pycharm": {
     "name": "#%%\n"
    }
   }
  },
  {
   "cell_type": "code",
   "execution_count": null,
   "outputs": [],
   "source": [
    "df.head()"
   ],
   "metadata": {
    "collapsed": false,
    "pycharm": {
     "name": "#%%\n"
    }
   }
  },
  {
   "cell_type": "code",
   "execution_count": null,
   "outputs": [],
   "source": [
    "# Removing $,. from Price\n",
    "df['Price'] = df['Price'].str.replace('[\\$\\,\\.]', '')"
   ],
   "metadata": {
    "collapsed": false,
    "pycharm": {
     "name": "#%%\n"
    }
   }
  },
  {
   "cell_type": "code",
   "execution_count": null,
   "outputs": [],
   "source": [
    "# Remove the two last zeros\n",
    "df['Price'] = df['Price'].str[:-2]"
   ],
   "metadata": {
    "collapsed": false,
    "pycharm": {
     "name": "#%%\n"
    }
   }
  },
  {
   "cell_type": "code",
   "execution_count": null,
   "outputs": [],
   "source": [
    "df"
   ],
   "metadata": {
    "collapsed": false,
    "pycharm": {
     "name": "#%%\n"
    }
   }
  },
  {
   "cell_type": "code",
   "execution_count": null,
   "outputs": [],
   "source": [
    "# Adding date column\n",
    "df['Sale Date'] = pd.date_range('1/1/2020', periods=len(df))"
   ],
   "metadata": {
    "collapsed": false,
    "pycharm": {
     "name": "#%%\n"
    }
   }
  },
  {
   "cell_type": "code",
   "execution_count": null,
   "outputs": [],
   "source": [
    "df"
   ],
   "metadata": {
    "collapsed": false,
    "pycharm": {
     "name": "#%%\n"
    }
   }
  },
  {
   "cell_type": "code",
   "execution_count": null,
   "outputs": [],
   "source": [
    "# Adding Total Sales column\n",
    "df['Total Sales'] = df['Price'].astype(int).cumsum()"
   ],
   "metadata": {
    "collapsed": false,
    "pycharm": {
     "name": "#%%\n"
    }
   }
  },
  {
   "cell_type": "code",
   "execution_count": null,
   "outputs": [],
   "source": [
    "df"
   ],
   "metadata": {
    "collapsed": false,
    "pycharm": {
     "name": "#%%\n"
    }
   }
  },
  {
   "cell_type": "code",
   "execution_count": null,
   "outputs": [],
   "source": [
    "# Let's plot the totale sales\n",
    "df.plot(x=\"Sale Date\", y =\"Total Sales\");"
   ],
   "metadata": {
    "collapsed": false,
    "pycharm": {
     "name": "#%%\n"
    }
   }
  },
  {
   "cell_type": "code",
   "execution_count": null,
   "outputs": [],
   "source": [
    "df['Price'] = df['Price'].astype(int)"
   ],
   "metadata": {
    "collapsed": false,
    "pycharm": {
     "name": "#%%\n"
    }
   }
  },
  {
   "cell_type": "code",
   "execution_count": null,
   "outputs": [],
   "source": [
    "# Scatter plot\n",
    "df.plot(x= \"Odometer (KM)\", y=\"Price\", kind=\"scatter\");"
   ],
   "metadata": {
    "collapsed": false,
    "pycharm": {
     "name": "#%%\n"
    }
   }
  },
  {
   "cell_type": "code",
   "execution_count": null,
   "outputs": [],
   "source": [
    "x = np.random.rand(10, 4)\n",
    "x"
   ],
   "metadata": {
    "collapsed": false,
    "pycharm": {
     "name": "#%%\n"
    }
   }
  },
  {
   "cell_type": "code",
   "execution_count": null,
   "outputs": [],
   "source": [
    "df_x = pd.DataFrame(x, columns=['a', 'b', 'c', 'd'])"
   ],
   "metadata": {
    "collapsed": false,
    "pycharm": {
     "name": "#%%\n"
    }
   }
  },
  {
   "cell_type": "code",
   "execution_count": null,
   "outputs": [],
   "source": [
    "df_x"
   ],
   "metadata": {
    "collapsed": false,
    "pycharm": {
     "name": "#%%\n"
    }
   }
  },
  {
   "cell_type": "code",
   "execution_count": null,
   "outputs": [],
   "source": [
    "df_x.plot(kind='bar');"
   ],
   "metadata": {
    "collapsed": false,
    "pycharm": {
     "name": "#%%\n"
    }
   }
  },
  {
   "cell_type": "code",
   "execution_count": null,
   "outputs": [],
   "source": [
    "df"
   ],
   "metadata": {
    "collapsed": false,
    "pycharm": {
     "name": "#%%\n"
    }
   }
  },
  {
   "cell_type": "code",
   "execution_count": null,
   "outputs": [],
   "source": [
    "df.plot(x=\"Make\", y=\"Odometer (KM)\", kind='bar');"
   ],
   "metadata": {
    "collapsed": false,
    "pycharm": {
     "name": "#%%\n"
    }
   }
  },
  {
   "cell_type": "code",
   "execution_count": null,
   "outputs": [],
   "source": [
    "df.plot(x=\"Make\", y=\"Price\", kind='bar');"
   ],
   "metadata": {
    "collapsed": false,
    "pycharm": {
     "name": "#%%\n"
    }
   }
  },
  {
   "cell_type": "code",
   "execution_count": null,
   "outputs": [],
   "source": [
    "avg_KM_by_Make = df.groupby(\"Make\")['Odometer (KM)'].agg(\"mean\")\n",
    "avg_KM_by_Make"
   ],
   "metadata": {
    "collapsed": false,
    "pycharm": {
     "name": "#%%\n"
    }
   }
  },
  {
   "cell_type": "code",
   "execution_count": null,
   "outputs": [],
   "source": [
    "avg_KM_by_Make.plot.bar();"
   ],
   "metadata": {
    "collapsed": false,
    "pycharm": {
     "name": "#%%\n"
    }
   }
  },
  {
   "cell_type": "code",
   "execution_count": null,
   "outputs": [],
   "source": [
    "avg_price_by_make = df.groupby(\"Make\")['Price'].agg(\"mean\")\n",
    "avg_price_by_make"
   ],
   "metadata": {
    "collapsed": false,
    "pycharm": {
     "name": "#%%\n"
    }
   }
  },
  {
   "cell_type": "code",
   "execution_count": null,
   "outputs": [],
   "source": [
    "avg_price_by_make.plot.bar();"
   ],
   "metadata": {
    "collapsed": false,
    "pycharm": {
     "name": "#%%\n"
    }
   }
  },
  {
   "cell_type": "code",
   "execution_count": null,
   "outputs": [],
   "source": [
    "df['Odometer (KM)'].plot.hist(bins=10);"
   ],
   "metadata": {
    "collapsed": false,
    "pycharm": {
     "name": "#%%\n"
    }
   }
  },
  {
   "cell_type": "code",
   "execution_count": null,
   "outputs": [],
   "source": [
    "df['Odometer (KM)'].plot(kind=\"hist\");"
   ],
   "metadata": {
    "collapsed": false,
    "pycharm": {
     "name": "#%%\n"
    }
   }
  },
  {
   "cell_type": "code",
   "execution_count": null,
   "outputs": [],
   "source": [
    "heart_disease = pd.read_csv('../data/raw/heart-disease.csv')"
   ],
   "metadata": {
    "collapsed": false,
    "pycharm": {
     "name": "#%%\n"
    }
   }
  },
  {
   "cell_type": "code",
   "execution_count": null,
   "outputs": [],
   "source": [
    "heart_disease.head()"
   ],
   "metadata": {
    "collapsed": false,
    "pycharm": {
     "name": "#%%\n"
    }
   }
  },
  {
   "cell_type": "code",
   "execution_count": null,
   "outputs": [],
   "source": [
    "# Create a histogram of age\n",
    "heart_disease['age'].plot.hist();"
   ],
   "metadata": {
    "collapsed": false,
    "pycharm": {
     "name": "#%%\n"
    }
   }
  },
  {
   "cell_type": "code",
   "execution_count": null,
   "outputs": [],
   "source": [
    "heart_disease.plot.hist(subplots=True);"
   ],
   "metadata": {
    "collapsed": false,
    "pycharm": {
     "name": "#%%\n"
    }
   }
  },
  {
   "cell_type": "code",
   "execution_count": null,
   "outputs": [],
   "source": [
    "heart_disease.plot.hist(figsize=(10, 30),subplots=True);"
   ],
   "metadata": {
    "collapsed": false,
    "pycharm": {
     "name": "#%%\n"
    }
   }
  },
  {
   "cell_type": "markdown",
   "source": [
    "- When plotting something quickly, we can use the (`pyplot`) method\n",
    "\n",
    "- When plotting something more advanced, use the (`OO`) method\n"
   ],
   "metadata": {
    "collapsed": false
   }
  },
  {
   "cell_type": "code",
   "execution_count": null,
   "outputs": [],
   "source": [
    "over_50 = heart_disease[heart_disease['age'] > 50]"
   ],
   "metadata": {
    "collapsed": false,
    "pycharm": {
     "name": "#%%\n"
    }
   }
  },
  {
   "cell_type": "code",
   "execution_count": null,
   "outputs": [],
   "source": [
    "len(over_50)"
   ],
   "metadata": {
    "collapsed": false,
    "pycharm": {
     "name": "#%%\n"
    }
   }
  },
  {
   "cell_type": "code",
   "execution_count": null,
   "outputs": [],
   "source": [
    "over_50.head()"
   ],
   "metadata": {
    "collapsed": false,
    "pycharm": {
     "name": "#%%\n"
    }
   }
  },
  {
   "cell_type": "code",
   "execution_count": null,
   "outputs": [],
   "source": [
    "# Plotting directly with pyplot method\n",
    "over_50.plot(kind='scatter',\n",
    "            x='age',\n",
    "            y='chol',\n",
    "            c='target'); # C here is used for colour => we will colour by the target column"
   ],
   "metadata": {
    "collapsed": false,
    "pycharm": {
     "name": "#%%\n"
    }
   }
  },
  {
   "cell_type": "code",
   "execution_count": null,
   "outputs": [],
   "source": [
    "# plotting based on the OO method\n",
    "fig, ax = plt.subplots(figsize=(10, 6))\n",
    "over_50.plot(kind='scatter',\n",
    "            x='age',\n",
    "            y='chol',\n",
    "            c='target',\n",
    "            ax=ax);"
   ],
   "metadata": {
    "collapsed": false,
    "pycharm": {
     "name": "#%%\n"
    }
   }
  },
  {
   "cell_type": "code",
   "execution_count": null,
   "outputs": [],
   "source": [
    "# plotting based on the OO method miwex with pyplot method\n",
    "fig, ax = plt.subplots(figsize=(10, 6))\n",
    "over_50.plot(kind='scatter',\n",
    "            x='age',\n",
    "            y='chol',\n",
    "            c='target',\n",
    "            ax=ax)\n",
    "ax.set_xlim([45, 100]);"
   ],
   "metadata": {
    "collapsed": false,
    "pycharm": {
     "name": "#%%\n"
    }
   }
  },
  {
   "cell_type": "markdown",
   "source": [
    "## OO Matplotlib method from scratch"
   ],
   "metadata": {
    "collapsed": false
   }
  },
  {
   "cell_type": "code",
   "execution_count": null,
   "outputs": [],
   "source": [
    "## OO Matplotlib method from scratch\n",
    "fig, ax = plt.subplots(figsize=(10, 6))\n",
    "\n",
    "# plot the data\n",
    "scatter = ax.scatter(x=over_50['age'],\n",
    "                    y=over_50['chol'],\n",
    "                    c=over_50['target'])\n",
    "\n",
    "\n",
    "# Customize the plot\n",
    "ax.set(title= \"Heart Disease and Cholesterol Levels\",\n",
    "      xlabel=\"Age\",\n",
    "      ylabel=\"Cholesterol\")\n",
    "\n",
    "# Add a legend\n",
    "ax.legend(*scatter.legend_elements(), title='Target')\n",
    "\n",
    "# Add a horizontal line\n",
    "ax.axhline(over_50['chol'].mean(),\n",
    "          linestyle='--',\n",
    "          c='red');"
   ],
   "metadata": {
    "collapsed": false,
    "pycharm": {
     "name": "#%%\n"
    }
   }
  },
  {
   "cell_type": "code",
   "execution_count": null,
   "outputs": [],
   "source": [
    "over_50.head()"
   ],
   "metadata": {
    "collapsed": false,
    "pycharm": {
     "name": "#%%\n"
    }
   }
  },
  {
   "cell_type": "code",
   "execution_count": null,
   "outputs": [],
   "source": [
    "# Subplot of chol , age, thalach\n",
    "\n",
    "fig, (ax0, ax1) = plt.subplots(nrows=2,\n",
    "                              ncols=1,\n",
    "                              figsize=(10, 10),\n",
    "                              sharex=True)\n",
    "\n",
    "# Add data to ax0\n",
    "scatter = ax0.scatter(x=over_50['age'],\n",
    "                     y=over_50['chol'],\n",
    "                     c=over_50['target'])\n",
    "\n",
    "# Customize ax0\n",
    "ax0.set(title=\"Heart Disease and Cholesterol Levels\",\n",
    "       ylabel=\"Cholesterol\")\n",
    "\n",
    "# Add a legend to ax0\n",
    "ax0.legend(*scatter.legend_elements(), title=\"Target\")\n",
    "\n",
    "# Add a meanline\n",
    "ax0.axhline(over_50['chol'].mean(),\n",
    "           linestyle='--',\n",
    "           c='red')\n",
    "\n",
    "# Add data to ax1\n",
    "scatter = ax1.scatter(x=over_50['age'],\n",
    "                     y=over_50['thalach'],\n",
    "                     c=over_50['target'])\n",
    "\n",
    "# Customize ax1\n",
    "ax1.set(title=\"Heart Disease and Max Heart Rate Levels\",\n",
    "       xlabel=\"Age\",\n",
    "       ylabel=\"Cholesterol\")\n",
    "\n",
    "# Add a legend to ax1\n",
    "ax1.legend(*scatter.legend_elements(), title=\"Target\")\n",
    "\n",
    "# Add a meanline\n",
    "ax1.axhline(over_50['thalach'].mean(),\n",
    "           linestyle='--',\n",
    "           c='green')\n",
    "\n",
    "# Add atitle to the figure\n",
    "fig.suptitle(\"Heart Disease Analysis\", fontsize=16, fontweight=\"bold\");"
   ],
   "metadata": {
    "collapsed": false,
    "pycharm": {
     "name": "#%%\n"
    }
   }
  },
  {
   "cell_type": "markdown",
   "source": [
    "## Customizing Matplotlib plots and getting stylish"
   ],
   "metadata": {
    "collapsed": false
   }
  },
  {
   "cell_type": "code",
   "execution_count": null,
   "outputs": [],
   "source": [
    "## See the different styles avalaible\n",
    "plt.style.available"
   ],
   "metadata": {
    "collapsed": false,
    "pycharm": {
     "name": "#%%\n"
    }
   }
  },
  {
   "cell_type": "code",
   "execution_count": null,
   "outputs": [],
   "source": [
    "df.head()"
   ],
   "metadata": {
    "collapsed": false,
    "pycharm": {
     "name": "#%%\n"
    }
   }
  },
  {
   "cell_type": "code",
   "execution_count": null,
   "outputs": [],
   "source": [
    "df['Price'].plot();"
   ],
   "metadata": {
    "collapsed": false,
    "pycharm": {
     "name": "#%%\n"
    }
   }
  },
  {
   "cell_type": "code",
   "execution_count": null,
   "outputs": [],
   "source": [
    "plt.style.use('seaborn-whitegrid')"
   ],
   "metadata": {
    "collapsed": false,
    "pycharm": {
     "name": "#%%\n"
    }
   }
  },
  {
   "cell_type": "code",
   "execution_count": null,
   "outputs": [],
   "source": [
    "df['Price'].plot();"
   ],
   "metadata": {
    "collapsed": false,
    "pycharm": {
     "name": "#%%\n"
    }
   }
  },
  {
   "cell_type": "code",
   "execution_count": null,
   "outputs": [],
   "source": [
    "# Scatter plot\n",
    "df.plot(x= \"Odometer (KM)\", y=\"Price\", kind=\"scatter\");"
   ],
   "metadata": {
    "collapsed": false,
    "pycharm": {
     "name": "#%%\n"
    }
   }
  },
  {
   "cell_type": "code",
   "execution_count": null,
   "outputs": [],
   "source": [
    "df['Price'].plot();"
   ],
   "metadata": {
    "collapsed": false,
    "pycharm": {
     "name": "#%%\n"
    }
   }
  },
  {
   "cell_type": "code",
   "execution_count": null,
   "outputs": [],
   "source": [
    "from matplotlib.axes._axes import _log as matplotlib_axes_logger\n",
    "matplotlib_axes_logger.setLevel('ERROR')"
   ],
   "metadata": {
    "collapsed": false,
    "pycharm": {
     "name": "#%%\n"
    }
   }
  },
  {
   "cell_type": "code",
   "execution_count": null,
   "outputs": [],
   "source": [
    "# Scatter plot\n",
    "df.plot(x= \"Odometer (KM)\", y=\"Price\", kind=\"scatter\");"
   ],
   "metadata": {
    "collapsed": false,
    "pycharm": {
     "name": "#%%\n"
    }
   }
  },
  {
   "cell_type": "code",
   "execution_count": null,
   "outputs": [],
   "source": [
    "# Crete some data\n",
    "x = np.random.randn(10, 4)\n",
    "x"
   ],
   "metadata": {
    "collapsed": false,
    "pycharm": {
     "name": "#%%\n"
    }
   }
  },
  {
   "cell_type": "code",
   "execution_count": null,
   "outputs": [],
   "source": [
    "new_data = pd.DataFrame(x, columns=['a', 'b', 'c', 'd'])\n",
    "new_data"
   ],
   "metadata": {
    "collapsed": false,
    "pycharm": {
     "name": "#%%\n"
    }
   }
  },
  {
   "cell_type": "code",
   "execution_count": null,
   "outputs": [],
   "source": [
    "ax = new_data.plot(kind='bar');"
   ],
   "metadata": {
    "collapsed": false,
    "pycharm": {
     "name": "#%%\n"
    }
   }
  },
  {
   "cell_type": "code",
   "execution_count": null,
   "outputs": [],
   "source": [
    "# customize the plot with the set() method\n",
    "ax = new_data.plot(kind='bar')\n",
    "\n",
    "# add some labels and title\n",
    "ax.set(title=\"Random Number Bar Graph from DataFrame\",\n",
    "      xlabel=\"Row Number\",\n",
    "      ylabel=\"Random Number\")\n",
    "\n",
    "# Make the legend visible\n",
    "ax.legend().set_visible(True);"
   ],
   "metadata": {
    "collapsed": false,
    "pycharm": {
     "name": "#%%\n"
    }
   }
  },
  {
   "cell_type": "code",
   "execution_count": null,
   "outputs": [],
   "source": [
    "# Set the style\n",
    "plt.style.use('seaborn-whitegrid')\n",
    "## OO Matplotlib method from scratch\n",
    "fig, ax = plt.subplots(figsize=(10, 6))\n",
    "\n",
    "# plot the data\n",
    "scatter = ax.scatter(x=over_50['age'],\n",
    "                    y=over_50['chol'],\n",
    "                    c=over_50['target'],\n",
    "                    cmap=\"winter\") # this changes the colour scheme\n",
    "\n",
    "\n",
    "# Customize the plot\n",
    "ax.set(title= \"Heart Disease and Cholesterol Levels\",\n",
    "      xlabel=\"Age\",\n",
    "      ylabel=\"Cholesterol\")\n",
    "\n",
    "# Add a legend\n",
    "ax.legend(*scatter.legend_elements(), title='Target')\n",
    "\n",
    "# Add a horizontal line\n",
    "ax.axhline(over_50['chol'].mean(),\n",
    "          linestyle='--',\n",
    "          c='red');"
   ],
   "metadata": {
    "collapsed": false,
    "pycharm": {
     "name": "#%%\n"
    }
   }
  },
  {
   "cell_type": "markdown",
   "source": [
    "## Customizing the plots by adjusting the axes limits"
   ],
   "metadata": {
    "collapsed": false
   }
  },
  {
   "cell_type": "code",
   "execution_count": null,
   "outputs": [],
   "source": [
    "# Customizing the y and x axes limitation\n",
    "\n",
    "# Subplot of chol , age, thalach\n",
    "\n",
    "fig, (ax0, ax1) = plt.subplots(nrows=2,\n",
    "                              ncols=1,\n",
    "                              figsize=(10, 10),\n",
    "                              sharex=True)\n",
    "\n",
    "# Add data to ax0\n",
    "scatter = ax0.scatter(x=over_50['age'],\n",
    "                     y=over_50['chol'],\n",
    "                     c=over_50['target'],\n",
    "                     cmap=\"winter\")\n",
    "\n",
    "# Customize ax0\n",
    "ax0.set(title=\"Heart Disease and Cholesterol Levels\",\n",
    "       ylabel=\"Cholesterol\")\n",
    "\n",
    "# Change the ax0 x-axis limits\n",
    "ax0.set_xlim([50, 80])\n",
    "\n",
    "# Add a legend to ax0\n",
    "ax0.legend(*scatter.legend_elements(), title=\"Target\")\n",
    "\n",
    "# Add a meanline\n",
    "ax0.axhline(over_50['chol'].mean(),\n",
    "           linestyle='--',\n",
    "           c='red')\n",
    "\n",
    "# Add data to ax1\n",
    "scatter = ax1.scatter(x=over_50['age'],\n",
    "                     y=over_50['thalach'],\n",
    "                     c=over_50['target'],\n",
    "                     cmap=\"winter\")\n",
    "\n",
    "# Customize ax1\n",
    "ax1.set(title=\"Heart Disease and Max Heart Rate Levels\",\n",
    "       xlabel=\"Age\",\n",
    "       ylabel=\"Max Heart Rate Levels\")\n",
    "\n",
    "# Change the ax1 x-axis limits\n",
    "ax1.set_xlim([50, 80])\n",
    "\n",
    "# Change the ax1 y-axis limits\n",
    "ax1.set_ylim([60, 200])\n",
    "\n",
    "# Add a legend to ax1\n",
    "ax1.legend(*scatter.legend_elements(), title=\"Target\")\n",
    "\n",
    "# Add a meanline\n",
    "ax1.axhline(over_50['thalach'].mean(),\n",
    "           linestyle='--',\n",
    "           c='green')\n",
    "\n",
    "# Add atitle to the figure\n",
    "fig.suptitle(\"Heart Disease Analysis\", fontsize=16, fontweight=\"bold\");"
   ],
   "metadata": {
    "collapsed": false,
    "pycharm": {
     "name": "#%%\n"
    }
   }
  },
  {
   "cell_type": "markdown",
   "source": [
    "# Saving ans sharing our plots"
   ],
   "metadata": {
    "collapsed": false
   }
  },
  {
   "cell_type": "code",
   "execution_count": null,
   "outputs": [],
   "source": [
    "fig.savefig(\"../data/figures/heart-disease-analysis-plot-saved-with-code.png\")"
   ],
   "metadata": {
    "collapsed": false,
    "pycharm": {
     "name": "#%%\n"
    }
   }
  },
  {
   "cell_type": "code",
   "execution_count": null,
   "outputs": [],
   "source": [],
   "metadata": {
    "collapsed": false,
    "pycharm": {
     "name": "#%%\n"
    }
   }
  },
  {
   "cell_type": "code",
   "execution_count": null,
   "outputs": [],
   "source": [],
   "metadata": {
    "collapsed": false,
    "pycharm": {
     "name": "#%%\n"
    }
   }
  },
  {
   "cell_type": "code",
   "execution_count": null,
   "outputs": [],
   "source": [],
   "metadata": {
    "collapsed": false,
    "pycharm": {
     "name": "#%%\n"
    }
   }
  },
  {
   "cell_type": "code",
   "execution_count": null,
   "outputs": [],
   "source": [],
   "metadata": {
    "collapsed": false,
    "pycharm": {
     "name": "#%%\n"
    }
   }
  },
  {
   "cell_type": "code",
   "execution_count": null,
   "outputs": [],
   "source": [],
   "metadata": {
    "collapsed": false,
    "pycharm": {
     "name": "#%%\n"
    }
   }
  },
  {
   "cell_type": "code",
   "execution_count": null,
   "outputs": [],
   "source": [],
   "metadata": {
    "collapsed": false,
    "pycharm": {
     "name": "#%%\n"
    }
   }
  }
 ],
 "metadata": {
  "kernelspec": {
   "name": "pycharm-a450661",
   "language": "python",
   "display_name": "PyCharm (training)"
  },
  "language_info": {
   "codemirror_mode": {
    "name": "ipython",
    "version": 3
   },
   "file_extension": ".py",
   "mimetype": "text/x-python",
   "name": "python",
   "nbconvert_exporter": "python",
   "pygments_lexer": "ipython3",
   "version": "3.6.10"
  }
 },
 "nbformat": 4,
 "nbformat_minor": 4
}